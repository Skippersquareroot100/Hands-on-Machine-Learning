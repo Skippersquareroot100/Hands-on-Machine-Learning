{
 "cells": [
  {
   "cell_type": "markdown",
   "metadata": {},
   "source": [
    "NumPy - Numerical Python\n",
    "Advantage of NumPy arrays:\n",
    "1.   Allows Several Mathematical Operation\n",
    "2.   Faster Operation"
   ]
  },
  {
   "cell_type": "code",
   "execution_count": 29,
   "metadata": {},
   "outputs": [],
   "source": [
    "import numpy as np"
   ]
  },
  {
   "cell_type": "code",
   "execution_count": 30,
   "metadata": {},
   "outputs": [],
   "source": [
    "from time import process_time"
   ]
  },
  {
   "cell_type": "code",
   "execution_count": 31,
   "metadata": {},
   "outputs": [
    {
     "name": "stdout",
     "output_type": "stream",
     "text": [
      "0.0020999999999999908\n"
     ]
    }
   ],
   "source": [
    "#without numpy\n",
    "python_list= [i for i in range(10000)]\n",
    "start_time=process_time()\n",
    "python_list=[i+5 for i in python_list]\n",
    "end_time=process_time()\n",
    "print(end_time-start_time)"
   ]
  },
  {
   "cell_type": "code",
   "execution_count": null,
   "metadata": {},
   "outputs": [],
   "source": [
    "#with numpy\n",
    "np_arrary=np.array([i for i in range(10000)])\n",
    "start_time=process_time()\n",
    "np_arrary+=5\n",
    "end_time=process_time()\n",
    "print(end_time-start_time)"
   ]
  },
  {
   "cell_type": "markdown",
   "metadata": {},
   "source": [
    "NumPy Arrays\n"
   ]
  },
  {
   "cell_type": "code",
   "execution_count": 39,
   "metadata": {},
   "outputs": [
    {
     "name": "stdout",
     "output_type": "stream",
     "text": [
      "[[1 2 3]\n",
      " [4 5 6]]\n",
      "[[1. 2. 3.]\n",
      " [4. 5. 6.]]\n"
     ]
    },
    {
     "data": {
      "text/plain": [
       "(2, 3)"
      ]
     },
     "execution_count": 39,
     "metadata": {},
     "output_type": "execute_result"
    }
   ],
   "source": [
    "a=np.array([(1,2,3),(4,5,6)])\n",
    "print(a)\n",
    "\n",
    "c=np.array([(1,2,3),(4,5,6)],dtype=float)\n",
    "print(c)\n",
    "\n",
    "a.shape\n"
   ]
  },
  {
   "cell_type": "markdown",
   "metadata": {},
   "source": [
    "Creating Random Values in NumPy arrays\n"
   ]
  },
  {
   "cell_type": "code",
   "execution_count": 51,
   "metadata": {},
   "outputs": [
    {
     "name": "stdout",
     "output_type": "stream",
     "text": [
      "[[1. 1. 1. 1.]\n",
      " [1. 1. 1. 1.]\n",
      " [1. 1. 1. 1.]]\n"
     ]
    }
   ],
   "source": [
    "a=np.ones((3,4))\n",
    "print(a)"
   ]
  },
  {
   "cell_type": "code",
   "execution_count": 49,
   "metadata": {},
   "outputs": [
    {
     "name": "stdout",
     "output_type": "stream",
     "text": [
      "[[0. 0. 0. 0.]\n",
      " [0. 0. 0. 0.]\n",
      " [0. 0. 0. 0.]]\n"
     ]
    }
   ],
   "source": [
    "b=np.zeros((3,4))\n",
    "print(b)"
   ]
  },
  {
   "cell_type": "code",
   "execution_count": 50,
   "metadata": {},
   "outputs": [
    {
     "name": "stdout",
     "output_type": "stream",
     "text": [
      "[[0.33243977 0.13912413 0.09711681 0.87892896]\n",
      " [0.12139099 0.99506686 0.72178304 0.4595452 ]\n",
      " [0.05228776 0.24272785 0.14045929 0.56304132]]\n"
     ]
    }
   ],
   "source": [
    "c=np.random.random((3,4))\n",
    "print(c)"
   ]
  },
  {
   "cell_type": "code",
   "execution_count": 53,
   "metadata": {},
   "outputs": [
    {
     "name": "stdout",
     "output_type": "stream",
     "text": [
      "[[91 95 99 96]\n",
      " [94 97 96 91]\n",
      " [96 94 97 90]]\n"
     ]
    }
   ],
   "source": [
    "d=np.random.randint(90,100,(3,4))\n",
    "print(d)"
   ]
  },
  {
   "cell_type": "markdown",
   "metadata": {},
   "source": [
    "Analaysis a NumPy array"
   ]
  },
  {
   "cell_type": "code",
   "execution_count": 56,
   "metadata": {},
   "outputs": [
    {
     "name": "stdout",
     "output_type": "stream",
     "text": [
      "Array:\n",
      "[[42 13 82 20 29]\n",
      " [66 79 69 29 43]\n",
      " [21 48 85 78 77]\n",
      " [67 83 50 26 65]\n",
      " [21 88 62 58 22]]\n",
      "Shape:\n",
      "(5, 5)\n",
      "Dimention:\n",
      "2\n",
      "Size:\n",
      "25\n",
      "Datatype:\n",
      "int64\n",
      "Bytes:\n",
      "200\n",
      "Total Item:\n",
      "8\n",
      "Location:\n",
      "<memory at 0x1060636c0>\n",
      "Flags:\n",
      "  C_CONTIGUOUS : True\n",
      "  F_CONTIGUOUS : False\n",
      "  OWNDATA : True\n",
      "  WRITEABLE : True\n",
      "  ALIGNED : True\n",
      "  WRITEBACKIFCOPY : False\n",
      "\n"
     ]
    }
   ],
   "source": [
    "c=np.random.randint(10,90,(5,5))\n",
    "print(\"Array:\")\n",
    "print(c)\n",
    "print(\"Shape:\")\n",
    "print(c.shape)\n",
    "print(\"Dimention:\")\n",
    "print(c.ndim)\n",
    "print(\"Size:\")\n",
    "print(c.size)\n",
    "print(\"Datatype:\")\n",
    "print(c.dtype)\n",
    "print(\"Bytes:\")\n",
    "print(c.nbytes)\n",
    "print(\"Total Item:\")\n",
    "print(c.itemsize)\n",
    "print(\"Location:\")\n",
    "print(c.data)\n",
    "print(\"Flags:\")\n",
    "print(c.flags)"
   ]
  },
  {
   "cell_type": "markdown",
   "metadata": {},
   "source": [
    "Array MAnipulation\n"
   ]
  },
  {
   "cell_type": "code",
   "execution_count": 60,
   "metadata": {},
   "outputs": [
    {
     "name": "stdout",
     "output_type": "stream",
     "text": [
      "Array:\n",
      "[[25 19 31]\n",
      " [58 33 28]]\n",
      "Shape:\n",
      "(2, 3)\n",
      "Transpose Array:\n",
      "[[25 58]\n",
      " [19 33]\n",
      " [31 28]]\n",
      "Transpose Shape:\n",
      "(3, 2)\n"
     ]
    }
   ],
   "source": [
    "#Array Transpose\n",
    "c=np.random.randint(10,90,(2,3))\n",
    "print(\"Array:\")\n",
    "print(c)\n",
    "print(\"Shape:\")\n",
    "print(c.shape)\n",
    "trans=np.transpose(c)\n",
    "print(\"Transpose Array:\")\n",
    "print(trans)\n",
    "print(\"Transpose Shape:\")\n",
    "print(trans.shape)"
   ]
  },
  {
   "cell_type": "code",
   "execution_count": 63,
   "metadata": {},
   "outputs": [
    {
     "name": "stdout",
     "output_type": "stream",
     "text": [
      "Array:\n",
      "[[18 62 22]\n",
      " [41 25 68]]\n",
      "Shape:\n",
      "(2, 3)\n",
      "Transpose Array:\n",
      "[[18 41]\n",
      " [62 25]\n",
      " [22 68]]\n",
      "Transpose Shape:\n",
      "(3, 2)\n"
     ]
    }
   ],
   "source": [
    "#Array Transpose 2\n",
    "c=np.random.randint(10,90,(2,3))\n",
    "print(\"Array:\")\n",
    "print(c)\n",
    "print(\"Shape:\")\n",
    "print(c.shape)\n",
    "trans=c.T\n",
    "print(\"Transpose Array:\")\n",
    "print(trans)\n",
    "print(\"Transpose Shape:\")\n",
    "print(trans.shape)\n"
   ]
  },
  {
   "cell_type": "code",
   "execution_count": 66,
   "metadata": {},
   "outputs": [
    {
     "name": "stdout",
     "output_type": "stream",
     "text": [
      "Array:\n",
      "[[25 70 18]\n",
      " [65 70 46]]\n",
      "Shape:\n",
      "(2, 3)\n",
      "Reshape Array:\n",
      "[[25 70]\n",
      " [18 65]\n",
      " [70 46]]\n"
     ]
    },
    {
     "data": {
      "text/plain": [
       "(3, 2)"
      ]
     },
     "execution_count": 66,
     "metadata": {},
     "output_type": "execute_result"
    }
   ],
   "source": [
    "#reshape\n",
    "c=np.random.randint(10,90,(2,3))\n",
    "print(\"Array:\")\n",
    "print(c)\n",
    "print(\"Shape:\")\n",
    "print(c.shape)\n",
    "res=np.reshape(c,(3,2))\n",
    "print(\"Reshape Array:\")\n",
    "print(res)\n",
    "res.shape"
   ]
  }
 ],
 "metadata": {
  "kernelspec": {
   "display_name": "ml-env",
   "language": "python",
   "name": "python3"
  },
  "language_info": {
   "codemirror_mode": {
    "name": "ipython",
    "version": 3
   },
   "file_extension": ".py",
   "mimetype": "text/x-python",
   "name": "python",
   "nbconvert_exporter": "python",
   "pygments_lexer": "ipython3",
   "version": "3.9.20"
  }
 },
 "nbformat": 4,
 "nbformat_minor": 2
}
